{
 "cells": [
  {
   "cell_type": "markdown",
   "id": "66a98b9d-a593-4eb9-af84-f139a15854b3",
   "metadata": {},
   "source": [
    "# Kasstroomprojectie rekenvoorbeelden"
   ]
  },
  {
   "cell_type": "markdown",
   "id": "c464061d-29f5-4b37-8767-df5fa17fa1e3",
   "metadata": {},
   "source": [
    "## Ouderdomspensioen (OP)"
   ]
  },
  {
   "cell_type": "markdown",
   "id": "aa5f1299-cece-4425-ab41-bac7cb5e04a1",
   "metadata": {},
   "source": [
    "We gebruiken gemakshalve de Python package **pandas** (https://pandas.pydata.org/) om een OP voorbeeld door te rekenen. Pandas is handig voor tabulaire gegevens met verschillende datatypes per kolom maar met een gemeenschappelijk index. Voor hoger-dimensionale data is het minder geschikt, en we zullen voor het PP voorbeeld dan ook overstappen naar NumPy."
   ]
  },
  {
   "cell_type": "markdown",
   "id": "89e72893-7606-46e5-a965-3edc50194d40",
   "metadata": {},
   "source": [
    "Allereerste importeren we de pandas package:"
   ]
  },
  {
   "cell_type": "code",
   "execution_count": 1,
   "id": "ce6dd49c-9282-4a90-8679-062e46f9a25d",
   "metadata": {},
   "outputs": [],
   "source": [
    "import pandas as pd"
   ]
  },
  {
   "cell_type": "markdown",
   "id": "7c8f0f81-ca5c-4cef-83c5-b8ddb799eae1",
   "metadata": {},
   "source": [
    "Vervolgens laden we een zogenaamd *dataframe* in aan met gegevens uit een CSV bestand:"
   ]
  },
  {
   "cell_type": "code",
   "execution_count": 2,
   "id": "cf3df70d-2e3e-4075-b8da-c4a7644ac4ae",
   "metadata": {},
   "outputs": [
    {
     "data": {
      "text/html": [
       "<div>\n",
       "<style scoped>\n",
       "    .dataframe tbody tr th:only-of-type {\n",
       "        vertical-align: middle;\n",
       "    }\n",
       "\n",
       "    .dataframe tbody tr th {\n",
       "        vertical-align: top;\n",
       "    }\n",
       "\n",
       "    .dataframe thead th {\n",
       "        text-align: right;\n",
       "    }\n",
       "</style>\n",
       "<table border=\"1\" class=\"dataframe\">\n",
       "  <thead>\n",
       "    <tr style=\"text-align: right;\">\n",
       "      <th></th>\n",
       "      <th>rente</th>\n",
       "      <th>overlevingskans</th>\n",
       "      <th>betaling</th>\n",
       "    </tr>\n",
       "    <tr>\n",
       "      <th>jaar</th>\n",
       "      <th></th>\n",
       "      <th></th>\n",
       "      <th></th>\n",
       "    </tr>\n",
       "  </thead>\n",
       "  <tbody>\n",
       "    <tr>\n",
       "      <th>2025</th>\n",
       "      <td>0.05</td>\n",
       "      <td>0.9</td>\n",
       "      <td>0</td>\n",
       "    </tr>\n",
       "    <tr>\n",
       "      <th>2026</th>\n",
       "      <td>0.05</td>\n",
       "      <td>0.9</td>\n",
       "      <td>0</td>\n",
       "    </tr>\n",
       "    <tr>\n",
       "      <th>2027</th>\n",
       "      <td>0.05</td>\n",
       "      <td>0.9</td>\n",
       "      <td>1</td>\n",
       "    </tr>\n",
       "    <tr>\n",
       "      <th>2028</th>\n",
       "      <td>0.05</td>\n",
       "      <td>0.9</td>\n",
       "      <td>1</td>\n",
       "    </tr>\n",
       "    <tr>\n",
       "      <th>2029</th>\n",
       "      <td>0.05</td>\n",
       "      <td>0.9</td>\n",
       "      <td>1</td>\n",
       "    </tr>\n",
       "    <tr>\n",
       "      <th>2030</th>\n",
       "      <td>0.05</td>\n",
       "      <td>0.9</td>\n",
       "      <td>1</td>\n",
       "    </tr>\n",
       "    <tr>\n",
       "      <th>2031</th>\n",
       "      <td>0.05</td>\n",
       "      <td>0.9</td>\n",
       "      <td>1</td>\n",
       "    </tr>\n",
       "    <tr>\n",
       "      <th>2032</th>\n",
       "      <td>0.05</td>\n",
       "      <td>0.9</td>\n",
       "      <td>1</td>\n",
       "    </tr>\n",
       "    <tr>\n",
       "      <th>2033</th>\n",
       "      <td>0.05</td>\n",
       "      <td>0.9</td>\n",
       "      <td>1</td>\n",
       "    </tr>\n",
       "    <tr>\n",
       "      <th>2034</th>\n",
       "      <td>0.05</td>\n",
       "      <td>0.9</td>\n",
       "      <td>1</td>\n",
       "    </tr>\n",
       "  </tbody>\n",
       "</table>\n",
       "</div>"
      ],
      "text/plain": [
       "      rente  overlevingskans  betaling\n",
       "jaar                                  \n",
       "2025   0.05              0.9         0\n",
       "2026   0.05              0.9         0\n",
       "2027   0.05              0.9         1\n",
       "2028   0.05              0.9         1\n",
       "2029   0.05              0.9         1\n",
       "2030   0.05              0.9         1\n",
       "2031   0.05              0.9         1\n",
       "2032   0.05              0.9         1\n",
       "2033   0.05              0.9         1\n",
       "2034   0.05              0.9         1"
      ]
     },
     "execution_count": 2,
     "metadata": {},
     "output_type": "execute_result"
    }
   ],
   "source": [
    "df = pd.read_csv(\"data.csv\", index_col=\"jaar\")\n",
    "df    "
   ]
  },
  {
   "cell_type": "markdown",
   "id": "539bf3a7-a40f-406d-ba08-e48689108830",
   "metadata": {},
   "source": [
    "Scalaire operator op kolommen worden automatisch gevectoriseerd:"
   ]
  },
  {
   "cell_type": "code",
   "execution_count": 3,
   "id": "d85f19bc-4674-4535-be01-7422a05a30d6",
   "metadata": {},
   "outputs": [
    {
     "data": {
      "text/plain": [
       "jaar\n",
       "2025    1.05\n",
       "2026    1.05\n",
       "2027    1.05\n",
       "2028    1.05\n",
       "2029    1.05\n",
       "2030    1.05\n",
       "2031    1.05\n",
       "2032    1.05\n",
       "2033    1.05\n",
       "2034    1.05\n",
       "Name: rente, dtype: float64"
      ]
     },
     "execution_count": 3,
     "metadata": {},
     "output_type": "execute_result"
    }
   ],
   "source": [
    "df.rente + 1"
   ]
  },
  {
   "cell_type": "markdown",
   "id": "5d10f3cd-7a74-4a39-9d27-8dbfdec0c54b",
   "metadata": {},
   "source": [
    "De cumulatieve rente kunnen  we uitrekenen met de functie [cumprod()](https://pandas.pydata.org/docs/reference/api/pandas.DataFrame.cumprod.html). We stoppen de uitkomst weer meteen in het dataframe als een nieuwe kolom:"
   ]
  },
  {
   "cell_type": "code",
   "execution_count": 4,
   "id": "446b83d1-038b-4f57-910b-a0f152797b61",
   "metadata": {},
   "outputs": [
    {
     "data": {
      "text/html": [
       "<div>\n",
       "<style scoped>\n",
       "    .dataframe tbody tr th:only-of-type {\n",
       "        vertical-align: middle;\n",
       "    }\n",
       "\n",
       "    .dataframe tbody tr th {\n",
       "        vertical-align: top;\n",
       "    }\n",
       "\n",
       "    .dataframe thead th {\n",
       "        text-align: right;\n",
       "    }\n",
       "</style>\n",
       "<table border=\"1\" class=\"dataframe\">\n",
       "  <thead>\n",
       "    <tr style=\"text-align: right;\">\n",
       "      <th></th>\n",
       "      <th>rente</th>\n",
       "      <th>overlevingskans</th>\n",
       "      <th>betaling</th>\n",
       "      <th>cumulatieve_rente</th>\n",
       "    </tr>\n",
       "    <tr>\n",
       "      <th>jaar</th>\n",
       "      <th></th>\n",
       "      <th></th>\n",
       "      <th></th>\n",
       "      <th></th>\n",
       "    </tr>\n",
       "  </thead>\n",
       "  <tbody>\n",
       "    <tr>\n",
       "      <th>2025</th>\n",
       "      <td>0.05</td>\n",
       "      <td>0.9</td>\n",
       "      <td>0</td>\n",
       "      <td>0.050000</td>\n",
       "    </tr>\n",
       "    <tr>\n",
       "      <th>2026</th>\n",
       "      <td>0.05</td>\n",
       "      <td>0.9</td>\n",
       "      <td>0</td>\n",
       "      <td>0.102500</td>\n",
       "    </tr>\n",
       "    <tr>\n",
       "      <th>2027</th>\n",
       "      <td>0.05</td>\n",
       "      <td>0.9</td>\n",
       "      <td>1</td>\n",
       "      <td>0.157625</td>\n",
       "    </tr>\n",
       "    <tr>\n",
       "      <th>2028</th>\n",
       "      <td>0.05</td>\n",
       "      <td>0.9</td>\n",
       "      <td>1</td>\n",
       "      <td>0.215506</td>\n",
       "    </tr>\n",
       "    <tr>\n",
       "      <th>2029</th>\n",
       "      <td>0.05</td>\n",
       "      <td>0.9</td>\n",
       "      <td>1</td>\n",
       "      <td>0.276282</td>\n",
       "    </tr>\n",
       "    <tr>\n",
       "      <th>2030</th>\n",
       "      <td>0.05</td>\n",
       "      <td>0.9</td>\n",
       "      <td>1</td>\n",
       "      <td>0.340096</td>\n",
       "    </tr>\n",
       "    <tr>\n",
       "      <th>2031</th>\n",
       "      <td>0.05</td>\n",
       "      <td>0.9</td>\n",
       "      <td>1</td>\n",
       "      <td>0.407100</td>\n",
       "    </tr>\n",
       "    <tr>\n",
       "      <th>2032</th>\n",
       "      <td>0.05</td>\n",
       "      <td>0.9</td>\n",
       "      <td>1</td>\n",
       "      <td>0.477455</td>\n",
       "    </tr>\n",
       "    <tr>\n",
       "      <th>2033</th>\n",
       "      <td>0.05</td>\n",
       "      <td>0.9</td>\n",
       "      <td>1</td>\n",
       "      <td>0.551328</td>\n",
       "    </tr>\n",
       "    <tr>\n",
       "      <th>2034</th>\n",
       "      <td>0.05</td>\n",
       "      <td>0.9</td>\n",
       "      <td>1</td>\n",
       "      <td>0.628895</td>\n",
       "    </tr>\n",
       "  </tbody>\n",
       "</table>\n",
       "</div>"
      ],
      "text/plain": [
       "      rente  overlevingskans  betaling  cumulatieve_rente\n",
       "jaar                                                     \n",
       "2025   0.05              0.9         0           0.050000\n",
       "2026   0.05              0.9         0           0.102500\n",
       "2027   0.05              0.9         1           0.157625\n",
       "2028   0.05              0.9         1           0.215506\n",
       "2029   0.05              0.9         1           0.276282\n",
       "2030   0.05              0.9         1           0.340096\n",
       "2031   0.05              0.9         1           0.407100\n",
       "2032   0.05              0.9         1           0.477455\n",
       "2033   0.05              0.9         1           0.551328\n",
       "2034   0.05              0.9         1           0.628895"
      ]
     },
     "execution_count": 4,
     "metadata": {},
     "output_type": "execute_result"
    }
   ],
   "source": [
    "df[\"cumulatieve_rente\"] = (df.rente + 1).cumprod() - 1\n",
    "df"
   ]
  },
  {
   "cell_type": "markdown",
   "id": "5e542d07-244c-4d92-8ac4-e6c1abb9d691",
   "metadata": {},
   "source": [
    "We doen hetzelfde met de overlevingskansen:"
   ]
  },
  {
   "cell_type": "code",
   "execution_count": 5,
   "id": "4cd78e09-dc11-4f9a-b6a5-0dcfb8c7c422",
   "metadata": {},
   "outputs": [
    {
     "data": {
      "text/html": [
       "<div>\n",
       "<style scoped>\n",
       "    .dataframe tbody tr th:only-of-type {\n",
       "        vertical-align: middle;\n",
       "    }\n",
       "\n",
       "    .dataframe tbody tr th {\n",
       "        vertical-align: top;\n",
       "    }\n",
       "\n",
       "    .dataframe thead th {\n",
       "        text-align: right;\n",
       "    }\n",
       "</style>\n",
       "<table border=\"1\" class=\"dataframe\">\n",
       "  <thead>\n",
       "    <tr style=\"text-align: right;\">\n",
       "      <th></th>\n",
       "      <th>rente</th>\n",
       "      <th>overlevingskans</th>\n",
       "      <th>betaling</th>\n",
       "      <th>cumulatieve_rente</th>\n",
       "      <th>cumulatieve_overlevingskans</th>\n",
       "    </tr>\n",
       "    <tr>\n",
       "      <th>jaar</th>\n",
       "      <th></th>\n",
       "      <th></th>\n",
       "      <th></th>\n",
       "      <th></th>\n",
       "      <th></th>\n",
       "    </tr>\n",
       "  </thead>\n",
       "  <tbody>\n",
       "    <tr>\n",
       "      <th>2025</th>\n",
       "      <td>0.05</td>\n",
       "      <td>0.9</td>\n",
       "      <td>0</td>\n",
       "      <td>0.050000</td>\n",
       "      <td>0.900000</td>\n",
       "    </tr>\n",
       "    <tr>\n",
       "      <th>2026</th>\n",
       "      <td>0.05</td>\n",
       "      <td>0.9</td>\n",
       "      <td>0</td>\n",
       "      <td>0.102500</td>\n",
       "      <td>0.810000</td>\n",
       "    </tr>\n",
       "    <tr>\n",
       "      <th>2027</th>\n",
       "      <td>0.05</td>\n",
       "      <td>0.9</td>\n",
       "      <td>1</td>\n",
       "      <td>0.157625</td>\n",
       "      <td>0.729000</td>\n",
       "    </tr>\n",
       "    <tr>\n",
       "      <th>2028</th>\n",
       "      <td>0.05</td>\n",
       "      <td>0.9</td>\n",
       "      <td>1</td>\n",
       "      <td>0.215506</td>\n",
       "      <td>0.656100</td>\n",
       "    </tr>\n",
       "    <tr>\n",
       "      <th>2029</th>\n",
       "      <td>0.05</td>\n",
       "      <td>0.9</td>\n",
       "      <td>1</td>\n",
       "      <td>0.276282</td>\n",
       "      <td>0.590490</td>\n",
       "    </tr>\n",
       "    <tr>\n",
       "      <th>2030</th>\n",
       "      <td>0.05</td>\n",
       "      <td>0.9</td>\n",
       "      <td>1</td>\n",
       "      <td>0.340096</td>\n",
       "      <td>0.531441</td>\n",
       "    </tr>\n",
       "    <tr>\n",
       "      <th>2031</th>\n",
       "      <td>0.05</td>\n",
       "      <td>0.9</td>\n",
       "      <td>1</td>\n",
       "      <td>0.407100</td>\n",
       "      <td>0.478297</td>\n",
       "    </tr>\n",
       "    <tr>\n",
       "      <th>2032</th>\n",
       "      <td>0.05</td>\n",
       "      <td>0.9</td>\n",
       "      <td>1</td>\n",
       "      <td>0.477455</td>\n",
       "      <td>0.430467</td>\n",
       "    </tr>\n",
       "    <tr>\n",
       "      <th>2033</th>\n",
       "      <td>0.05</td>\n",
       "      <td>0.9</td>\n",
       "      <td>1</td>\n",
       "      <td>0.551328</td>\n",
       "      <td>0.387420</td>\n",
       "    </tr>\n",
       "    <tr>\n",
       "      <th>2034</th>\n",
       "      <td>0.05</td>\n",
       "      <td>0.9</td>\n",
       "      <td>1</td>\n",
       "      <td>0.628895</td>\n",
       "      <td>0.348678</td>\n",
       "    </tr>\n",
       "  </tbody>\n",
       "</table>\n",
       "</div>"
      ],
      "text/plain": [
       "      rente  overlevingskans  betaling  cumulatieve_rente  \\\n",
       "jaar                                                        \n",
       "2025   0.05              0.9         0           0.050000   \n",
       "2026   0.05              0.9         0           0.102500   \n",
       "2027   0.05              0.9         1           0.157625   \n",
       "2028   0.05              0.9         1           0.215506   \n",
       "2029   0.05              0.9         1           0.276282   \n",
       "2030   0.05              0.9         1           0.340096   \n",
       "2031   0.05              0.9         1           0.407100   \n",
       "2032   0.05              0.9         1           0.477455   \n",
       "2033   0.05              0.9         1           0.551328   \n",
       "2034   0.05              0.9         1           0.628895   \n",
       "\n",
       "      cumulatieve_overlevingskans  \n",
       "jaar                               \n",
       "2025                     0.900000  \n",
       "2026                     0.810000  \n",
       "2027                     0.729000  \n",
       "2028                     0.656100  \n",
       "2029                     0.590490  \n",
       "2030                     0.531441  \n",
       "2031                     0.478297  \n",
       "2032                     0.430467  \n",
       "2033                     0.387420  \n",
       "2034                     0.348678  "
      ]
     },
     "execution_count": 5,
     "metadata": {},
     "output_type": "execute_result"
    }
   ],
   "source": [
    "df[\"cumulatieve_overlevingskans\"] = df.overlevingskans.cumprod()\n",
    "df"
   ]
  },
  {
   "cell_type": "markdown",
   "id": "62de10df-8047-4d53-a646-1fb8480040ce",
   "metadata": {},
   "source": [
    "De effectieve betaling (of wel de uitkering per euro aanspraak) is dan:"
   ]
  },
  {
   "cell_type": "code",
   "execution_count": 6,
   "id": "a28c6451-9f9f-4573-b1d9-77d9f3bcfd92",
   "metadata": {},
   "outputs": [
    {
     "data": {
      "text/html": [
       "<div>\n",
       "<style scoped>\n",
       "    .dataframe tbody tr th:only-of-type {\n",
       "        vertical-align: middle;\n",
       "    }\n",
       "\n",
       "    .dataframe tbody tr th {\n",
       "        vertical-align: top;\n",
       "    }\n",
       "\n",
       "    .dataframe thead th {\n",
       "        text-align: right;\n",
       "    }\n",
       "</style>\n",
       "<table border=\"1\" class=\"dataframe\">\n",
       "  <thead>\n",
       "    <tr style=\"text-align: right;\">\n",
       "      <th></th>\n",
       "      <th>rente</th>\n",
       "      <th>overlevingskans</th>\n",
       "      <th>betaling</th>\n",
       "      <th>cumulatieve_rente</th>\n",
       "      <th>cumulatieve_overlevingskans</th>\n",
       "      <th>effectieve_betaling</th>\n",
       "    </tr>\n",
       "    <tr>\n",
       "      <th>jaar</th>\n",
       "      <th></th>\n",
       "      <th></th>\n",
       "      <th></th>\n",
       "      <th></th>\n",
       "      <th></th>\n",
       "      <th></th>\n",
       "    </tr>\n",
       "  </thead>\n",
       "  <tbody>\n",
       "    <tr>\n",
       "      <th>2025</th>\n",
       "      <td>0.05</td>\n",
       "      <td>0.9</td>\n",
       "      <td>0</td>\n",
       "      <td>0.050000</td>\n",
       "      <td>0.900000</td>\n",
       "      <td>0.000000</td>\n",
       "    </tr>\n",
       "    <tr>\n",
       "      <th>2026</th>\n",
       "      <td>0.05</td>\n",
       "      <td>0.9</td>\n",
       "      <td>0</td>\n",
       "      <td>0.102500</td>\n",
       "      <td>0.810000</td>\n",
       "      <td>0.000000</td>\n",
       "    </tr>\n",
       "    <tr>\n",
       "      <th>2027</th>\n",
       "      <td>0.05</td>\n",
       "      <td>0.9</td>\n",
       "      <td>1</td>\n",
       "      <td>0.157625</td>\n",
       "      <td>0.729000</td>\n",
       "      <td>0.729000</td>\n",
       "    </tr>\n",
       "    <tr>\n",
       "      <th>2028</th>\n",
       "      <td>0.05</td>\n",
       "      <td>0.9</td>\n",
       "      <td>1</td>\n",
       "      <td>0.215506</td>\n",
       "      <td>0.656100</td>\n",
       "      <td>0.656100</td>\n",
       "    </tr>\n",
       "    <tr>\n",
       "      <th>2029</th>\n",
       "      <td>0.05</td>\n",
       "      <td>0.9</td>\n",
       "      <td>1</td>\n",
       "      <td>0.276282</td>\n",
       "      <td>0.590490</td>\n",
       "      <td>0.590490</td>\n",
       "    </tr>\n",
       "    <tr>\n",
       "      <th>2030</th>\n",
       "      <td>0.05</td>\n",
       "      <td>0.9</td>\n",
       "      <td>1</td>\n",
       "      <td>0.340096</td>\n",
       "      <td>0.531441</td>\n",
       "      <td>0.531441</td>\n",
       "    </tr>\n",
       "    <tr>\n",
       "      <th>2031</th>\n",
       "      <td>0.05</td>\n",
       "      <td>0.9</td>\n",
       "      <td>1</td>\n",
       "      <td>0.407100</td>\n",
       "      <td>0.478297</td>\n",
       "      <td>0.478297</td>\n",
       "    </tr>\n",
       "    <tr>\n",
       "      <th>2032</th>\n",
       "      <td>0.05</td>\n",
       "      <td>0.9</td>\n",
       "      <td>1</td>\n",
       "      <td>0.477455</td>\n",
       "      <td>0.430467</td>\n",
       "      <td>0.430467</td>\n",
       "    </tr>\n",
       "    <tr>\n",
       "      <th>2033</th>\n",
       "      <td>0.05</td>\n",
       "      <td>0.9</td>\n",
       "      <td>1</td>\n",
       "      <td>0.551328</td>\n",
       "      <td>0.387420</td>\n",
       "      <td>0.387420</td>\n",
       "    </tr>\n",
       "    <tr>\n",
       "      <th>2034</th>\n",
       "      <td>0.05</td>\n",
       "      <td>0.9</td>\n",
       "      <td>1</td>\n",
       "      <td>0.628895</td>\n",
       "      <td>0.348678</td>\n",
       "      <td>0.348678</td>\n",
       "    </tr>\n",
       "  </tbody>\n",
       "</table>\n",
       "</div>"
      ],
      "text/plain": [
       "      rente  overlevingskans  betaling  cumulatieve_rente  \\\n",
       "jaar                                                        \n",
       "2025   0.05              0.9         0           0.050000   \n",
       "2026   0.05              0.9         0           0.102500   \n",
       "2027   0.05              0.9         1           0.157625   \n",
       "2028   0.05              0.9         1           0.215506   \n",
       "2029   0.05              0.9         1           0.276282   \n",
       "2030   0.05              0.9         1           0.340096   \n",
       "2031   0.05              0.9         1           0.407100   \n",
       "2032   0.05              0.9         1           0.477455   \n",
       "2033   0.05              0.9         1           0.551328   \n",
       "2034   0.05              0.9         1           0.628895   \n",
       "\n",
       "      cumulatieve_overlevingskans  effectieve_betaling  \n",
       "jaar                                                    \n",
       "2025                     0.900000             0.000000  \n",
       "2026                     0.810000             0.000000  \n",
       "2027                     0.729000             0.729000  \n",
       "2028                     0.656100             0.656100  \n",
       "2029                     0.590490             0.590490  \n",
       "2030                     0.531441             0.531441  \n",
       "2031                     0.478297             0.478297  \n",
       "2032                     0.430467             0.430467  \n",
       "2033                     0.387420             0.387420  \n",
       "2034                     0.348678             0.348678  "
      ]
     },
     "execution_count": 6,
     "metadata": {},
     "output_type": "execute_result"
    }
   ],
   "source": [
    "df[\"effectieve_betaling\"] = df.betaling * df.cumulatieve_overlevingskans\n",
    "df"
   ]
  },
  {
   "cell_type": "markdown",
   "id": "b3e592ad-b1e9-4272-9929-620a0f206e33",
   "metadata": {},
   "source": [
    "Om de factor uit rekenen hebben we de verdisconteerde effectieve betaling nodig:"
   ]
  },
  {
   "cell_type": "code",
   "execution_count": 7,
   "id": "d9f79fad-27f9-4ee0-a1fe-b06ab25f3a40",
   "metadata": {},
   "outputs": [
    {
     "data": {
      "text/html": [
       "<div>\n",
       "<style scoped>\n",
       "    .dataframe tbody tr th:only-of-type {\n",
       "        vertical-align: middle;\n",
       "    }\n",
       "\n",
       "    .dataframe tbody tr th {\n",
       "        vertical-align: top;\n",
       "    }\n",
       "\n",
       "    .dataframe thead th {\n",
       "        text-align: right;\n",
       "    }\n",
       "</style>\n",
       "<table border=\"1\" class=\"dataframe\">\n",
       "  <thead>\n",
       "    <tr style=\"text-align: right;\">\n",
       "      <th></th>\n",
       "      <th>rente</th>\n",
       "      <th>overlevingskans</th>\n",
       "      <th>betaling</th>\n",
       "      <th>cumulatieve_rente</th>\n",
       "      <th>cumulatieve_overlevingskans</th>\n",
       "      <th>effectieve_betaling</th>\n",
       "      <th>verdisconteerde_effectieve_betaling</th>\n",
       "    </tr>\n",
       "    <tr>\n",
       "      <th>jaar</th>\n",
       "      <th></th>\n",
       "      <th></th>\n",
       "      <th></th>\n",
       "      <th></th>\n",
       "      <th></th>\n",
       "      <th></th>\n",
       "      <th></th>\n",
       "    </tr>\n",
       "  </thead>\n",
       "  <tbody>\n",
       "    <tr>\n",
       "      <th>2025</th>\n",
       "      <td>0.05</td>\n",
       "      <td>0.9</td>\n",
       "      <td>0</td>\n",
       "      <td>0.050000</td>\n",
       "      <td>0.900000</td>\n",
       "      <td>0.000000</td>\n",
       "      <td>0.000000</td>\n",
       "    </tr>\n",
       "    <tr>\n",
       "      <th>2026</th>\n",
       "      <td>0.05</td>\n",
       "      <td>0.9</td>\n",
       "      <td>0</td>\n",
       "      <td>0.102500</td>\n",
       "      <td>0.810000</td>\n",
       "      <td>0.000000</td>\n",
       "      <td>0.000000</td>\n",
       "    </tr>\n",
       "    <tr>\n",
       "      <th>2027</th>\n",
       "      <td>0.05</td>\n",
       "      <td>0.9</td>\n",
       "      <td>1</td>\n",
       "      <td>0.157625</td>\n",
       "      <td>0.729000</td>\n",
       "      <td>0.729000</td>\n",
       "      <td>0.629738</td>\n",
       "    </tr>\n",
       "    <tr>\n",
       "      <th>2028</th>\n",
       "      <td>0.05</td>\n",
       "      <td>0.9</td>\n",
       "      <td>1</td>\n",
       "      <td>0.215506</td>\n",
       "      <td>0.656100</td>\n",
       "      <td>0.656100</td>\n",
       "      <td>0.539775</td>\n",
       "    </tr>\n",
       "    <tr>\n",
       "      <th>2029</th>\n",
       "      <td>0.05</td>\n",
       "      <td>0.9</td>\n",
       "      <td>1</td>\n",
       "      <td>0.276282</td>\n",
       "      <td>0.590490</td>\n",
       "      <td>0.590490</td>\n",
       "      <td>0.462664</td>\n",
       "    </tr>\n",
       "    <tr>\n",
       "      <th>2030</th>\n",
       "      <td>0.05</td>\n",
       "      <td>0.9</td>\n",
       "      <td>1</td>\n",
       "      <td>0.340096</td>\n",
       "      <td>0.531441</td>\n",
       "      <td>0.531441</td>\n",
       "      <td>0.396569</td>\n",
       "    </tr>\n",
       "    <tr>\n",
       "      <th>2031</th>\n",
       "      <td>0.05</td>\n",
       "      <td>0.9</td>\n",
       "      <td>1</td>\n",
       "      <td>0.407100</td>\n",
       "      <td>0.478297</td>\n",
       "      <td>0.478297</td>\n",
       "      <td>0.339917</td>\n",
       "    </tr>\n",
       "    <tr>\n",
       "      <th>2032</th>\n",
       "      <td>0.05</td>\n",
       "      <td>0.9</td>\n",
       "      <td>1</td>\n",
       "      <td>0.477455</td>\n",
       "      <td>0.430467</td>\n",
       "      <td>0.430467</td>\n",
       "      <td>0.291357</td>\n",
       "    </tr>\n",
       "    <tr>\n",
       "      <th>2033</th>\n",
       "      <td>0.05</td>\n",
       "      <td>0.9</td>\n",
       "      <td>1</td>\n",
       "      <td>0.551328</td>\n",
       "      <td>0.387420</td>\n",
       "      <td>0.387420</td>\n",
       "      <td>0.249735</td>\n",
       "    </tr>\n",
       "    <tr>\n",
       "      <th>2034</th>\n",
       "      <td>0.05</td>\n",
       "      <td>0.9</td>\n",
       "      <td>1</td>\n",
       "      <td>0.628895</td>\n",
       "      <td>0.348678</td>\n",
       "      <td>0.348678</td>\n",
       "      <td>0.214058</td>\n",
       "    </tr>\n",
       "  </tbody>\n",
       "</table>\n",
       "</div>"
      ],
      "text/plain": [
       "      rente  overlevingskans  betaling  cumulatieve_rente  \\\n",
       "jaar                                                        \n",
       "2025   0.05              0.9         0           0.050000   \n",
       "2026   0.05              0.9         0           0.102500   \n",
       "2027   0.05              0.9         1           0.157625   \n",
       "2028   0.05              0.9         1           0.215506   \n",
       "2029   0.05              0.9         1           0.276282   \n",
       "2030   0.05              0.9         1           0.340096   \n",
       "2031   0.05              0.9         1           0.407100   \n",
       "2032   0.05              0.9         1           0.477455   \n",
       "2033   0.05              0.9         1           0.551328   \n",
       "2034   0.05              0.9         1           0.628895   \n",
       "\n",
       "      cumulatieve_overlevingskans  effectieve_betaling  \\\n",
       "jaar                                                     \n",
       "2025                     0.900000             0.000000   \n",
       "2026                     0.810000             0.000000   \n",
       "2027                     0.729000             0.729000   \n",
       "2028                     0.656100             0.656100   \n",
       "2029                     0.590490             0.590490   \n",
       "2030                     0.531441             0.531441   \n",
       "2031                     0.478297             0.478297   \n",
       "2032                     0.430467             0.430467   \n",
       "2033                     0.387420             0.387420   \n",
       "2034                     0.348678             0.348678   \n",
       "\n",
       "      verdisconteerde_effectieve_betaling  \n",
       "jaar                                       \n",
       "2025                             0.000000  \n",
       "2026                             0.000000  \n",
       "2027                             0.629738  \n",
       "2028                             0.539775  \n",
       "2029                             0.462664  \n",
       "2030                             0.396569  \n",
       "2031                             0.339917  \n",
       "2032                             0.291357  \n",
       "2033                             0.249735  \n",
       "2034                             0.214058  "
      ]
     },
     "execution_count": 7,
     "metadata": {},
     "output_type": "execute_result"
    }
   ],
   "source": [
    "df[\"verdisconteerde_effectieve_betaling\"] = df.effectieve_betaling / ( 1 + df.cumulatieve_rente)\n",
    "df"
   ]
  },
  {
   "cell_type": "markdown",
   "id": "f6a5e251-35c4-4756-ae1c-73705a1be982",
   "metadata": {},
   "source": [
    "De actuarieele factor is de som van de verdisconteerde uitkering:"
   ]
  },
  {
   "cell_type": "code",
   "execution_count": 8,
   "id": "db12a4f5-3cdb-474d-b8b8-3b3198cfd246",
   "metadata": {},
   "outputs": [
    {
     "data": {
      "text/plain": [
       "np.float64(3.123813371698276)"
      ]
     },
     "execution_count": 8,
     "metadata": {},
     "output_type": "execute_result"
    }
   ],
   "source": [
    "factor = df.verdisconteerde_effectieve_betaling.sum()\n",
    "factor"
   ]
  },
  {
   "cell_type": "markdown",
   "id": "16613885-f07b-4ad3-883d-f42a72d1706a",
   "metadata": {},
   "source": [
    "De aanspraak wordt dan:"
   ]
  },
  {
   "cell_type": "code",
   "execution_count": 9,
   "id": "42a402a4-87eb-4ebb-9a8a-3531ae181d5c",
   "metadata": {},
   "outputs": [
    {
     "data": {
      "text/plain": [
       "np.float64(32012.155689580944)"
      ]
     },
     "execution_count": 9,
     "metadata": {},
     "output_type": "execute_result"
    }
   ],
   "source": [
    "kapitaal = 100_000\n",
    "aanspraak = kapitaal / factor\n",
    "aanspraak"
   ]
  },
  {
   "cell_type": "markdown",
   "id": "0604cd97-0e79-4172-919b-3af544cee762",
   "metadata": {},
   "source": [
    "En de uiteindelijke kasstroom:"
   ]
  },
  {
   "cell_type": "code",
   "execution_count": 10,
   "id": "8afca764-4419-44cb-b332-ab77f06c2db9",
   "metadata": {},
   "outputs": [
    {
     "data": {
      "text/html": [
       "<div>\n",
       "<style scoped>\n",
       "    .dataframe tbody tr th:only-of-type {\n",
       "        vertical-align: middle;\n",
       "    }\n",
       "\n",
       "    .dataframe tbody tr th {\n",
       "        vertical-align: top;\n",
       "    }\n",
       "\n",
       "    .dataframe thead th {\n",
       "        text-align: right;\n",
       "    }\n",
       "</style>\n",
       "<table border=\"1\" class=\"dataframe\">\n",
       "  <thead>\n",
       "    <tr style=\"text-align: right;\">\n",
       "      <th></th>\n",
       "      <th>rente</th>\n",
       "      <th>overlevingskans</th>\n",
       "      <th>betaling</th>\n",
       "      <th>cumulatieve_rente</th>\n",
       "      <th>cumulatieve_overlevingskans</th>\n",
       "      <th>effectieve_betaling</th>\n",
       "      <th>verdisconteerde_effectieve_betaling</th>\n",
       "      <th>kasstroom</th>\n",
       "    </tr>\n",
       "    <tr>\n",
       "      <th>jaar</th>\n",
       "      <th></th>\n",
       "      <th></th>\n",
       "      <th></th>\n",
       "      <th></th>\n",
       "      <th></th>\n",
       "      <th></th>\n",
       "      <th></th>\n",
       "      <th></th>\n",
       "    </tr>\n",
       "  </thead>\n",
       "  <tbody>\n",
       "    <tr>\n",
       "      <th>2025</th>\n",
       "      <td>0.05</td>\n",
       "      <td>0.9</td>\n",
       "      <td>0</td>\n",
       "      <td>0.050000</td>\n",
       "      <td>0.900000</td>\n",
       "      <td>0.000000</td>\n",
       "      <td>0.000000</td>\n",
       "      <td>0.000000</td>\n",
       "    </tr>\n",
       "    <tr>\n",
       "      <th>2026</th>\n",
       "      <td>0.05</td>\n",
       "      <td>0.9</td>\n",
       "      <td>0</td>\n",
       "      <td>0.102500</td>\n",
       "      <td>0.810000</td>\n",
       "      <td>0.000000</td>\n",
       "      <td>0.000000</td>\n",
       "      <td>0.000000</td>\n",
       "    </tr>\n",
       "    <tr>\n",
       "      <th>2027</th>\n",
       "      <td>0.05</td>\n",
       "      <td>0.9</td>\n",
       "      <td>1</td>\n",
       "      <td>0.157625</td>\n",
       "      <td>0.729000</td>\n",
       "      <td>0.729000</td>\n",
       "      <td>0.629738</td>\n",
       "      <td>23336.861498</td>\n",
       "    </tr>\n",
       "    <tr>\n",
       "      <th>2028</th>\n",
       "      <td>0.05</td>\n",
       "      <td>0.9</td>\n",
       "      <td>1</td>\n",
       "      <td>0.215506</td>\n",
       "      <td>0.656100</td>\n",
       "      <td>0.656100</td>\n",
       "      <td>0.539775</td>\n",
       "      <td>21003.175348</td>\n",
       "    </tr>\n",
       "    <tr>\n",
       "      <th>2029</th>\n",
       "      <td>0.05</td>\n",
       "      <td>0.9</td>\n",
       "      <td>1</td>\n",
       "      <td>0.276282</td>\n",
       "      <td>0.590490</td>\n",
       "      <td>0.590490</td>\n",
       "      <td>0.462664</td>\n",
       "      <td>18902.857813</td>\n",
       "    </tr>\n",
       "    <tr>\n",
       "      <th>2030</th>\n",
       "      <td>0.05</td>\n",
       "      <td>0.9</td>\n",
       "      <td>1</td>\n",
       "      <td>0.340096</td>\n",
       "      <td>0.531441</td>\n",
       "      <td>0.531441</td>\n",
       "      <td>0.396569</td>\n",
       "      <td>17012.572032</td>\n",
       "    </tr>\n",
       "    <tr>\n",
       "      <th>2031</th>\n",
       "      <td>0.05</td>\n",
       "      <td>0.9</td>\n",
       "      <td>1</td>\n",
       "      <td>0.407100</td>\n",
       "      <td>0.478297</td>\n",
       "      <td>0.478297</td>\n",
       "      <td>0.339917</td>\n",
       "      <td>15311.314829</td>\n",
       "    </tr>\n",
       "    <tr>\n",
       "      <th>2032</th>\n",
       "      <td>0.05</td>\n",
       "      <td>0.9</td>\n",
       "      <td>1</td>\n",
       "      <td>0.477455</td>\n",
       "      <td>0.430467</td>\n",
       "      <td>0.430467</td>\n",
       "      <td>0.291357</td>\n",
       "      <td>13780.183346</td>\n",
       "    </tr>\n",
       "    <tr>\n",
       "      <th>2033</th>\n",
       "      <td>0.05</td>\n",
       "      <td>0.9</td>\n",
       "      <td>1</td>\n",
       "      <td>0.551328</td>\n",
       "      <td>0.387420</td>\n",
       "      <td>0.387420</td>\n",
       "      <td>0.249735</td>\n",
       "      <td>12402.165011</td>\n",
       "    </tr>\n",
       "    <tr>\n",
       "      <th>2034</th>\n",
       "      <td>0.05</td>\n",
       "      <td>0.9</td>\n",
       "      <td>1</td>\n",
       "      <td>0.628895</td>\n",
       "      <td>0.348678</td>\n",
       "      <td>0.348678</td>\n",
       "      <td>0.214058</td>\n",
       "      <td>11161.948510</td>\n",
       "    </tr>\n",
       "  </tbody>\n",
       "</table>\n",
       "</div>"
      ],
      "text/plain": [
       "      rente  overlevingskans  betaling  cumulatieve_rente  \\\n",
       "jaar                                                        \n",
       "2025   0.05              0.9         0           0.050000   \n",
       "2026   0.05              0.9         0           0.102500   \n",
       "2027   0.05              0.9         1           0.157625   \n",
       "2028   0.05              0.9         1           0.215506   \n",
       "2029   0.05              0.9         1           0.276282   \n",
       "2030   0.05              0.9         1           0.340096   \n",
       "2031   0.05              0.9         1           0.407100   \n",
       "2032   0.05              0.9         1           0.477455   \n",
       "2033   0.05              0.9         1           0.551328   \n",
       "2034   0.05              0.9         1           0.628895   \n",
       "\n",
       "      cumulatieve_overlevingskans  effectieve_betaling  \\\n",
       "jaar                                                     \n",
       "2025                     0.900000             0.000000   \n",
       "2026                     0.810000             0.000000   \n",
       "2027                     0.729000             0.729000   \n",
       "2028                     0.656100             0.656100   \n",
       "2029                     0.590490             0.590490   \n",
       "2030                     0.531441             0.531441   \n",
       "2031                     0.478297             0.478297   \n",
       "2032                     0.430467             0.430467   \n",
       "2033                     0.387420             0.387420   \n",
       "2034                     0.348678             0.348678   \n",
       "\n",
       "      verdisconteerde_effectieve_betaling     kasstroom  \n",
       "jaar                                                     \n",
       "2025                             0.000000      0.000000  \n",
       "2026                             0.000000      0.000000  \n",
       "2027                             0.629738  23336.861498  \n",
       "2028                             0.539775  21003.175348  \n",
       "2029                             0.462664  18902.857813  \n",
       "2030                             0.396569  17012.572032  \n",
       "2031                             0.339917  15311.314829  \n",
       "2032                             0.291357  13780.183346  \n",
       "2033                             0.249735  12402.165011  \n",
       "2034                             0.214058  11161.948510  "
      ]
     },
     "execution_count": 10,
     "metadata": {},
     "output_type": "execute_result"
    }
   ],
   "source": [
    "df[\"kasstroom\"] = df.effectieve_betaling * aanspraak\n",
    "df"
   ]
  },
  {
   "cell_type": "markdown",
   "id": "33773b13-043d-4b26-aa9a-0bba5219ea6a",
   "metadata": {},
   "source": [
    "Ter controle: de som van de verdisconteerde kasstroom moet gelijk zijn aan het oorspronkelijke kapitaal:"
   ]
  },
  {
   "cell_type": "code",
   "execution_count": 11,
   "id": "d9c03c25-e69e-46b2-8325-b0eb60c3f7b2",
   "metadata": {},
   "outputs": [
    {
     "data": {
      "text/plain": [
       "np.float64(100000.0)"
      ]
     },
     "execution_count": 11,
     "metadata": {},
     "output_type": "execute_result"
    }
   ],
   "source": [
    "(df.kasstroom / ( 1 + df.cumulatieve_rente)).sum()"
   ]
  },
  {
   "cell_type": "markdown",
   "id": "3eebaef6-3d54-4d08-b4c3-8e2ecaa96175",
   "metadata": {},
   "source": [
    "De som van de onverdisconteerde kasstroom is hetzelfde als wat we zagen in de presentatie:"
   ]
  },
  {
   "cell_type": "code",
   "execution_count": 12,
   "id": "d5706256-c39f-4f6b-8f71-33b152d2016b",
   "metadata": {},
   "outputs": [
    {
     "data": {
      "text/plain": [
       "np.float64(132911.07838631232)"
      ]
     },
     "execution_count": 12,
     "metadata": {},
     "output_type": "execute_result"
    }
   ],
   "source": [
    "df.kasstroom.sum()"
   ]
  },
  {
   "cell_type": "markdown",
   "id": "9c815670-b304-480c-b066-d4c69eb3d8c8",
   "metadata": {},
   "source": [
    "## Ouderdomspensioen met twee staten"
   ]
  },
  {
   "cell_type": "markdown",
   "id": "8dbb62a0-8d49-4320-99fd-25d61e078c51",
   "metadata": {},
   "source": [
    "We schakelen nu over naar het volledige twee-staten model voor het OP. Hierboven hebben we de shortcut genomen dat we de absorberende en niet-uitkerende staten weglieten (namelijk de staat waarin de verzekerde overleden is). Voor het OP is het twee-staten model niet nodig om tot de correcte uitkomsten te komen, maar we doen dit als opmaat voor het PP.\n",
    "\n",
    "Omdat we nu hoger-dimensionale gegevens nodig hebben (namelijk een lijst van matrices, ofwel een drie-dimensionale lijst), schakelen we over naar de Python package **NumPy** (https://numpy.org/). NumPy vormt de basis voor pandas, en is uitermate geschikt voor N-dimensionale data."
   ]
  },
  {
   "cell_type": "markdown",
   "id": "7db3b0a0-a914-48d7-bac0-612fe0fe7b0a",
   "metadata": {},
   "source": [
    "Allereerste importen we NumPy en een package uit de Python stdlib, namelijk itertools:"
   ]
  },
  {
   "cell_type": "code",
   "execution_count": 13,
   "id": "1da5ee30-10f1-4b34-8ce3-9066df0c5e52",
   "metadata": {
    "tags": []
   },
   "outputs": [],
   "source": [
    "import itertools as it\n",
    "import numpy as np"
   ]
  },
  {
   "cell_type": "markdown",
   "id": "46476849-de00-40b9-baaf-c9f29bd5c82d",
   "metadata": {},
   "source": [
    "De overgangskansen Qs zijn:"
   ]
  },
  {
   "cell_type": "code",
   "execution_count": 14,
   "id": "d45dd9c9-6b05-457d-a0e3-c2c245cb57aa",
   "metadata": {},
   "outputs": [
    {
     "data": {
      "text/plain": [
       "array([[[0.9, 0.1],\n",
       "        [0. , 1. ]],\n",
       "\n",
       "       [[0.9, 0.1],\n",
       "        [0. , 1. ]],\n",
       "\n",
       "       [[0.9, 0.1],\n",
       "        [0. , 1. ]],\n",
       "\n",
       "       [[0.9, 0.1],\n",
       "        [0. , 1. ]],\n",
       "\n",
       "       [[0.9, 0.1],\n",
       "        [0. , 1. ]],\n",
       "\n",
       "       [[0.9, 0.1],\n",
       "        [0. , 1. ]],\n",
       "\n",
       "       [[0.9, 0.1],\n",
       "        [0. , 1. ]],\n",
       "\n",
       "       [[0.9, 0.1],\n",
       "        [0. , 1. ]],\n",
       "\n",
       "       [[0.9, 0.1],\n",
       "        [0. , 1. ]],\n",
       "\n",
       "       [[0.9, 0.1],\n",
       "        [0. , 1. ]]])"
      ]
     },
     "execution_count": 14,
     "metadata": {},
     "output_type": "execute_result"
    }
   ],
   "source": [
    "Qs = np.array([[\n",
    "    [0.9, 0.1], \n",
    "    [0.0, 1.0]\n",
    "]] * 10)\n",
    "Qs"
   ]
  },
  {
   "cell_type": "markdown",
   "id": "49822e3f-5694-4628-a94d-c4ad585cd720",
   "metadata": {},
   "source": [
    "De cumulatieve overgangskansen zijn:"
   ]
  },
  {
   "cell_type": "code",
   "execution_count": 15,
   "id": "bfa97bad-9702-4ff3-87b0-fa73c2fa07c0",
   "metadata": {},
   "outputs": [
    {
     "data": {
      "text/plain": [
       "array([[[1.        , 0.        ],\n",
       "        [0.        , 1.        ]],\n",
       "\n",
       "       [[0.9       , 0.1       ],\n",
       "        [0.        , 1.        ]],\n",
       "\n",
       "       [[0.81      , 0.19      ],\n",
       "        [0.        , 1.        ]],\n",
       "\n",
       "       [[0.729     , 0.271     ],\n",
       "        [0.        , 1.        ]],\n",
       "\n",
       "       [[0.6561    , 0.3439    ],\n",
       "        [0.        , 1.        ]],\n",
       "\n",
       "       [[0.59049   , 0.40951   ],\n",
       "        [0.        , 1.        ]],\n",
       "\n",
       "       [[0.531441  , 0.468559  ],\n",
       "        [0.        , 1.        ]],\n",
       "\n",
       "       [[0.4782969 , 0.5217031 ],\n",
       "        [0.        , 1.        ]],\n",
       "\n",
       "       [[0.43046721, 0.56953279],\n",
       "        [0.        , 1.        ]],\n",
       "\n",
       "       [[0.38742049, 0.61257951],\n",
       "        [0.        , 1.        ]]])"
      ]
     },
     "execution_count": 15,
     "metadata": {},
     "output_type": "execute_result"
    }
   ],
   "source": [
    "Qcum = np.array(list(it.accumulate(Qs[:-1], np.matmul,  initial=np.identity(2))))\n",
    "Qcum"
   ]
  },
  {
   "cell_type": "markdown",
   "id": "4ee1b9ea-6a6e-4dee-8dd9-90f5791f416d",
   "metadata": {},
   "source": [
    "De betalingsmatrices zijn:"
   ]
  },
  {
   "cell_type": "code",
   "execution_count": 16,
   "id": "20b71e68-a7d2-42ae-b454-f154769ba881",
   "metadata": {},
   "outputs": [
    {
     "data": {
      "text/plain": [
       "array([[[0, 0],\n",
       "        [0, 0]],\n",
       "\n",
       "       [[0, 0],\n",
       "        [0, 0]],\n",
       "\n",
       "       [[1, 0],\n",
       "        [1, 0]],\n",
       "\n",
       "       [[1, 0],\n",
       "        [1, 0]],\n",
       "\n",
       "       [[1, 0],\n",
       "        [1, 0]],\n",
       "\n",
       "       [[1, 0],\n",
       "        [1, 0]],\n",
       "\n",
       "       [[1, 0],\n",
       "        [1, 0]],\n",
       "\n",
       "       [[1, 0],\n",
       "        [1, 0]],\n",
       "\n",
       "       [[1, 0],\n",
       "        [1, 0]],\n",
       "\n",
       "       [[1, 0],\n",
       "        [1, 0]]])"
      ]
     },
     "execution_count": 16,
     "metadata": {},
     "output_type": "execute_result"
    }
   ],
   "source": [
    "Bs = np.array([[[0,0],[0,0]]] * 2 + [[[1, 0], [1, 0]]] * 8)\n",
    "Bs"
   ]
  },
  {
   "cell_type": "markdown",
   "id": "1bd7adb5-cbde-4b92-9abf-4b8930e9af86",
   "metadata": {},
   "source": [
    "De verdiscontering is:"
   ]
  },
  {
   "cell_type": "code",
   "execution_count": 17,
   "id": "e2aef1a9-913c-4fdd-a7f4-b47b8f8954c5",
   "metadata": {},
   "outputs": [
    {
     "data": {
      "text/plain": [
       "array([0.95238095, 0.90702948, 0.8638376 , 0.82270247, 0.78352617,\n",
       "       0.7462154 , 0.71068133, 0.67683936, 0.64460892, 0.61391325])"
      ]
     },
     "execution_count": 17,
     "metadata": {},
     "output_type": "execute_result"
    }
   ],
   "source": [
    "W = 1 / (1 + df.cumulatieve_rente.to_numpy())\n",
    "W"
   ]
  },
  {
   "cell_type": "markdown",
   "id": "15315111-9f06-4b3b-b25d-3158bb5067cf",
   "metadata": {},
   "source": [
    "We kunnen de kasstroom K in snel uitrekenen dankzij de NumPy functie [einsum()](https://numpy.org/doc/stable/reference/generated/numpy.einsum.html). De functie implementeert de zogenaamde [Einstein summatie conventie](https://en.wikipedia.org/wiki/Einstein_notation), waarmee ingewikkelde matrix-vermenigvuldigingen in één klap uit te rekenen zijn."
   ]
  },
  {
   "cell_type": "markdown",
   "id": "262b6a64-4cae-46c7-a231-dfa9c655d4eb",
   "metadata": {},
   "source": [
    "De formule voor de actuarieele factor is:\n",
    "$$\n",
    "F(s) = \\sum_{\\tau=s}^{\\infty} K(s, \\tau) \n",
    "$$\n",
    "waar de verdisconteerde kasstroom $K(s, \\tau)$ gelijk is aan:\n",
    "$$\n",
    "K(s, \\tau)   = \\bar{Q}(s,\\tau-1)[Q(\\tau) \\odot \\tilde{B}(\\tau))]  \\iota  \\iota W(s,\\tau-s)\n",
    "$$\n",
    "Als we alle indices uitschrijven wordt de verdisconteerde kasstroom gelijk aan:\n",
    "$$\n",
    "K(s, \\tau)_i = \\sum_{j, k} \\bar{Q}(s, \\tau-1)_{ij} Q(\\tau)_{jk} B(\\tau)_{jk}  W(s,\\tau-s)\n",
    "$$\n",
    "De $\\tau$ tijds-afhankelijkheid zit in de NumPy lijsten die we hierboven hebben gedefinieerde in de eerste index. `W[0]` is bijvoorbeeld de verdiscontering in het eerste jaar, `W[1]` die in het tweede, etc. De $i$, $j$ en $k$ indices horen bij de staten van het rekenmodel. De verdisconteerde kasstroom kan dan als volgt uitgerekend worden:"
   ]
  },
  {
   "cell_type": "code",
   "execution_count": 18,
   "id": "d6141c74-843b-4853-a2a0-0e3dc40c03b1",
   "metadata": {},
   "outputs": [
    {
     "data": {
      "text/plain": [
       "array([[0.        , 0.        ],\n",
       "       [0.        , 0.        ],\n",
       "       [0.62973761, 0.        ],\n",
       "       [0.53977509, 0.        ],\n",
       "       [0.46266437, 0.        ],\n",
       "       [0.39656946, 0.        ],\n",
       "       [0.33991668, 0.        ],\n",
       "       [0.29135715, 0.        ],\n",
       "       [0.2497347 , 0.        ],\n",
       "       [0.21405832, 0.        ]])"
      ]
     },
     "execution_count": 18,
     "metadata": {},
     "output_type": "execute_result"
    }
   ],
   "source": [
    "K = np.einsum(\"tij,tjk,tjk,t->ti\", Qcum, Qs, Bs, W)\n",
    "K"
   ]
  },
  {
   "cell_type": "markdown",
   "id": "f4d3755e-30aa-43e3-b360-0c8202aa16a1",
   "metadata": {},
   "source": [
    "De factor is de som van de kasstroom:"
   ]
  },
  {
   "cell_type": "code",
   "execution_count": 19,
   "id": "a31ca24a-0487-4c2c-8c3f-6198a872b47e",
   "metadata": {},
   "outputs": [
    {
     "data": {
      "text/plain": [
       "array([3.12381337, 0.        ])"
      ]
     },
     "execution_count": 19,
     "metadata": {},
     "output_type": "execute_result"
    }
   ],
   "source": [
    "factor = K.sum(axis=0)\n",
    "factor"
   ]
  },
  {
   "cell_type": "markdown",
   "id": "ade72ea6-b04e-44dc-a372-d833060c6163",
   "metadata": {},
   "source": [
    "## Bepaald Partnerpensioen"
   ]
  },
  {
   "cell_type": "markdown",
   "id": "23836a22-35b3-4bec-bb6e-3bae5b3b42c4",
   "metadata": {},
   "source": [
    "Het verschil tussen het OP hierboven en een PP is voornamelijk de betalingsmatrix: in het OP is de eerste staat (deelnemer in leven) uitkerend, en het PP is de twee staat (deelnemer OVL, partner in leven) uitkerend. We zetter hier gemakshalve de overlevingskansen van de partner, $p_y$, gelijk aan 1."
   ]
  },
  {
   "cell_type": "code",
   "execution_count": 20,
   "id": "fb164fd7-f04e-40db-a36d-8dcc0c3a9973",
   "metadata": {},
   "outputs": [
    {
     "data": {
      "text/plain": [
       "array([[[0, 0],\n",
       "        [0, 0]],\n",
       "\n",
       "       [[0, 0],\n",
       "        [0, 0]],\n",
       "\n",
       "       [[0, 1],\n",
       "        [0, 1]],\n",
       "\n",
       "       [[0, 1],\n",
       "        [0, 1]],\n",
       "\n",
       "       [[0, 1],\n",
       "        [0, 1]],\n",
       "\n",
       "       [[0, 1],\n",
       "        [0, 1]],\n",
       "\n",
       "       [[0, 1],\n",
       "        [0, 1]],\n",
       "\n",
       "       [[0, 1],\n",
       "        [0, 1]],\n",
       "\n",
       "       [[0, 1],\n",
       "        [0, 1]],\n",
       "\n",
       "       [[0, 1],\n",
       "        [0, 1]]])"
      ]
     },
     "execution_count": 20,
     "metadata": {},
     "output_type": "execute_result"
    }
   ],
   "source": [
    "Bs = np.array([[[0,0],[0,0]]] * 2 + [[[0, 1], [0, 1]]] * 8)\n",
    "Bs"
   ]
  },
  {
   "cell_type": "markdown",
   "id": "c5fed159-98de-4793-96cd-23bcd3a77cb8",
   "metadata": {},
   "source": [
    "De kasstroom is dan:"
   ]
  },
  {
   "cell_type": "code",
   "execution_count": 21,
   "id": "b49cdd7b-dbed-473b-8492-08c5b23f99b3",
   "metadata": {},
   "outputs": [
    {
     "data": {
      "text/plain": [
       "array([[0.        , 0.        ],\n",
       "       [0.        , 0.        ],\n",
       "       [0.23409999, 0.8638376 ],\n",
       "       [0.28292738, 0.82270247],\n",
       "       [0.3208618 , 0.78352617],\n",
       "       [0.34964594, 0.7462154 ],\n",
       "       [0.37076465, 0.71068133],\n",
       "       [0.38548221, 0.67683936],\n",
       "       [0.39487421, 0.64460892],\n",
       "       [0.39985494, 0.61391325]])"
      ]
     },
     "execution_count": 21,
     "metadata": {},
     "output_type": "execute_result"
    }
   ],
   "source": [
    "K = np.einsum(\"tij,tjk,tjk,t->ti\", Qcum, Qs, Bs, W)\n",
    "K"
   ]
  },
  {
   "cell_type": "markdown",
   "id": "575040ae-4065-41a2-b411-9507bd062fb9",
   "metadata": {},
   "source": [
    "De daadwerkelijke kasstroom is die van de eerste staat, dus de eerste kolom. De tweede kolom is de kasstroom als de deelnemer vanaf het begin af aan al overleden zou zijn. De PP kasstroom wordt hoger naar verloop van tijd, in tegenstelling tot de OP kasstroom."
   ]
  },
  {
   "cell_type": "code",
   "execution_count": 22,
   "id": "124925a7-f8b3-4781-a156-dde27e213c4b",
   "metadata": {},
   "outputs": [
    {
     "data": {
      "text/plain": [
       "array([2.73851113, 5.8623245 ])"
      ]
     },
     "execution_count": 22,
     "metadata": {},
     "output_type": "execute_result"
    }
   ],
   "source": [
    "factor = K.sum(axis=0)\n",
    "factor"
   ]
  },
  {
   "cell_type": "markdown",
   "id": "d3fbda00-abe4-4976-a560-775e57bd8465",
   "metadata": {},
   "source": [
    "De daadwerkelijke factor is ook hier het eerste getal. Het tweede getal is de factor voor wanneer de deelnemer vanaf het begin af aan al overleden zou zijn."
   ]
  }
 ],
 "metadata": {
  "kernelspec": {
   "display_name": "Python 3 (ipykernel)",
   "language": "python",
   "name": "python3"
  },
  "language_info": {
   "codemirror_mode": {
    "name": "ipython",
    "version": 3
   },
   "file_extension": ".py",
   "mimetype": "text/x-python",
   "name": "python",
   "nbconvert_exporter": "python",
   "pygments_lexer": "ipython3",
   "version": "3.10.15"
  }
 },
 "nbformat": 4,
 "nbformat_minor": 5
}
